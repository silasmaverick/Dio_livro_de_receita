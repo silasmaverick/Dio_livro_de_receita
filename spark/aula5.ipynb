{
 "cells": [
  {
   "cell_type": "markdown",
   "metadata": {},
   "source": [
    "Aula - opcoes de leitura e escrita\n"
   ]
  },
  {
   "cell_type": "code",
   "execution_count": 1,
   "metadata": {},
   "outputs": [],
   "source": [
    "from pyspark.sql import Row"
   ]
  },
  {
   "cell_type": "code",
   "execution_count": 2,
   "metadata": {},
   "outputs": [],
   "source": [
    "name = Row(\"cod\",\"nome\")\n",
    "data= [name(1,\"Silas\"), name(2,\"Oliveira\")]"
   ]
  },
  {
   "cell_type": "code",
   "execution_count": 3,
   "metadata": {},
   "outputs": [],
   "source": [
    "data_frame = spark.createDataFrame(data)"
   ]
  },
  {
   "cell_type": "code",
   "execution_count": 4,
   "metadata": {},
   "outputs": [
    {
     "name": "stdout",
     "output_type": "stream",
     "text": [
      "root\n",
      " |-- cod: long (nullable = true)\n",
      " |-- nome: string (nullable = true)\n",
      "\n",
      "None\n",
      "+---+--------+\n",
      "|cod|    nome|\n",
      "+---+--------+\n",
      "|  1|   Silas|\n",
      "|  2|Oliveira|\n",
      "+---+--------+\n",
      "\n"
     ]
    }
   ],
   "source": [
    "print(data_frame.printSchema())\n",
    "data_frame.show()\n"
   ]
  },
  {
   "cell_type": "code",
   "execution_count": 10,
   "metadata": {},
   "outputs": [],
   "source": [
    "data_frame.write.csv(\"/user/silas/teste_csv\", mode=\"overwrite\", header=\"true\", sep=\";\")\n"
   ]
  },
  {
   "cell_type": "markdown",
   "metadata": {},
   "source": [
    "Leitura de Dados"
   ]
  },
  {
   "cell_type": "code",
   "execution_count": 8,
   "metadata": {},
   "outputs": [
    {
     "name": "stdout",
     "output_type": "stream",
     "text": [
      "+---+--------+\n",
      "|cod|    nome|\n",
      "+---+--------+\n",
      "|  2|Oliveira|\n",
      "|  1|   Silas|\n",
      "+---+--------+\n",
      "\n"
     ]
    }
   ],
   "source": [
    "#cabeçalho true; tirar espaços no inicio ou final, \n",
    "spark.read.csv(\"/user/silas/teste_csv\", header=\"true\", ignoreLeadingWhiteSpace=\"true\").show()"
   ]
  },
  {
   "cell_type": "code",
   "execution_count": 12,
   "metadata": {},
   "outputs": [
    {
     "name": "stdout",
     "output_type": "stream",
     "text": [
      "+---+--------+\n",
      "|_c0|     _c1|\n",
      "+---+--------+\n",
      "|cod|    nome|\n",
      "|  2|Oliveira|\n",
      "|cod|    nome|\n",
      "|  1|   Silas|\n",
      "+---+--------+\n",
      "\n"
     ]
    }
   ],
   "source": [
    "#separador \";\", tratar aspas, mode(formato tem que ser correspondente ao formato dos dados, campo null)  \n",
    "spark.read.csv(\"/user/silas/teste_csv\", sep=\";\", quote=\"\\'\", mode=\"DROPMALFORMED\").show()"
   ]
  }
 ],
 "metadata": {
  "kernelspec": {
   "display_name": "PySpark",
   "language": "python",
   "name": "pyspark"
  },
  "language_info": {
   "codemirror_mode": {
    "name": "ipython",
    "version": 3
   },
   "file_extension": ".py",
   "mimetype": "text/x-python",
   "name": "python",
   "nbconvert_exporter": "python",
   "pygments_lexer": "ipython3",
   "version": "3.6.10"
  }
 },
 "nbformat": 4,
 "nbformat_minor": 2
}
