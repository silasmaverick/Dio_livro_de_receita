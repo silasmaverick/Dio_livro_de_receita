{
 "cells": [
  {
   "cell_type": "code",
   "execution_count": 1,
   "metadata": {},
   "outputs": [],
   "source": [
    "#importações:\n",
    "from pyspark.sql.types import StructType"
   ]
  },
  {
   "cell_type": "code",
   "execution_count": 2,
   "metadata": {},
   "outputs": [
    {
     "name": "stdout",
     "output_type": "stream",
     "text": [
      "Found 3 items\n",
      "-rw-r--r--   3 root supergroup       4551 2021-10-19 23:40 /user/silas/data/iris/bezdekIris.data\n",
      "-rw-r--r--   3 root supergroup       4551 2021-10-19 23:40 /user/silas/data/iris/iris.data\n",
      "-rw-r--r--   3 root supergroup       2998 2021-10-19 23:40 /user/silas/data/iris/iris.names\n"
     ]
    }
   ],
   "source": [
    "!hdfs dfs -ls /user/silas/data/iris\n",
    "#contagem de linha dos arquivos\n",
    "#bezdekiris.data 150 linhas\n",
    "#iris.data 150 linhas"
   ]
  },
  {
   "cell_type": "code",
   "execution_count": 3,
   "metadata": {},
   "outputs": [
    {
     "name": "stdout",
     "output_type": "stream",
     "text": [
      "StructType(List(StructField(sepal_lenght,FloatType,true),StructField(sepal_width,FloatType,true),StructField(petal_lenght,FloatType,true),StructField(petal_width,FloatType,true),StructField(class,StringType,true)))\n"
     ]
    }
   ],
   "source": [
    "#especificando um schema *obrigatório\n",
    "iris_schema = StructType().add(\"sepal_lenght\",\"float\").add(\"sepal_width\",\"float\").add(\"petal_lenght\",\"float\").add(\"petal_width\",\"float\").add(\"class\",\"string\")\n",
    "print(iris_schema)"
   ]
  },
  {
   "cell_type": "code",
   "execution_count": 4,
   "metadata": {},
   "outputs": [
    {
     "name": "stdout",
     "output_type": "stream",
     "text": [
      "+------------+-----------+------------+-----------+-----------+\n",
      "|sepal_lenght|sepal_width|petal_lenght|petal_width|      class|\n",
      "+------------+-----------+------------+-----------+-----------+\n",
      "|         5.1|        3.5|         1.4|        0.2|Iris-setosa|\n",
      "|         4.9|        3.0|         1.4|        0.2|Iris-setosa|\n",
      "|         4.7|        3.2|         1.3|        0.2|Iris-setosa|\n",
      "|         4.6|        3.1|         1.5|        0.2|Iris-setosa|\n",
      "|         5.0|        3.6|         1.4|        0.2|Iris-setosa|\n",
      "+------------+-----------+------------+-----------+-----------+\n",
      "only showing top 5 rows\n",
      "\n"
     ]
    },
    {
     "data": {
      "text/plain": [
       "300"
      ]
     },
     "execution_count": 4,
     "metadata": {},
     "output_type": "execute_result"
    }
   ],
   "source": [
    "iris = spark.read.schema(iris_schema).csv(\"/user/silas/data/iris/*.data\")\n",
    "iris.show(5)\n",
    "iris.count()"
   ]
  },
  {
   "cell_type": "code",
   "execution_count": null,
   "metadata": {},
   "outputs": [],
   "source": [
    "iris_bez = spark.read.csv(\"/user/silas/data/iris/bezdekIris.data\")\n",
    "iris_bez.count()"
   ]
  },
  {
   "cell_type": "code",
   "execution_count": null,
   "metadata": {},
   "outputs": [],
   "source": [
    "iris_dat = spark.read.csv(\"/user/silas/data/iris/iris.data\")\n",
    "iris_dat.count()"
   ]
  },
  {
   "cell_type": "code",
   "execution_count": 5,
   "metadata": {},
   "outputs": [],
   "source": [
    "#criando o stream\n",
    "iris_stream = spark.readStream.schema(iris_schema).csv(\"/user/silas/data/iris/*.data\")"
   ]
  },
  {
   "cell_type": "code",
   "execution_count": null,
   "metadata": {},
   "outputs": [],
   "source": [
    "iris_stream.printSchema()"
   ]
  },
  {
   "cell_type": "code",
   "execution_count": 6,
   "metadata": {},
   "outputs": [],
   "source": [
    "#diretório para salvar \n",
    "iris_saida = iris_stream.writeStream.format(\"csv\")\\\n",
    ".option(\"checkpointLocation\",\"/user/silas/stream_iris/check\")\\\n",
    ".option(\"path\",\"/user/silas/stream_iris/path\").start()"
   ]
  },
  {
   "cell_type": "code",
   "execution_count": null,
   "metadata": {},
   "outputs": [],
   "source": [
    "iris_saida.id\n",
    "iris_saida.lastProgress\n",
    "iris_saida.status\n"
   ]
  },
  {
   "cell_type": "code",
   "execution_count": 7,
   "metadata": {},
   "outputs": [
    {
     "name": "stdout",
     "output_type": "stream",
     "text": [
      "Found 4 items\r\n",
      "drwxr-xr-x   - root supergroup          0 2021-10-30 23:44 /user/silas/stream_iris/check/commits\r\n",
      "-rw-r--r--   3 root supergroup         45 2021-10-30 23:37 /user/silas/stream_iris/check/metadata\r\n",
      "drwxr-xr-x   - root supergroup          0 2021-10-30 23:44 /user/silas/stream_iris/check/offsets\r\n",
      "drwxr-xr-x   - root supergroup          0 2021-10-30 23:37 /user/silas/stream_iris/check/sources\r\n"
     ]
    }
   ],
   "source": [
    "#verificação do checkpoint\n",
    "!hdfs dfs -ls /user/silas/stream_iris/check"
   ]
  },
  {
   "cell_type": "code",
   "execution_count": 8,
   "metadata": {},
   "outputs": [
    {
     "name": "stdout",
     "output_type": "stream",
     "text": [
      "Found 3 items\r\n",
      "drwxr-xr-x   - root supergroup          0 2021-10-30 23:44 /user/silas/stream_iris/path/_spark_metadata\r\n",
      "-rw-r--r--   2 root supergroup       4550 2021-10-30 23:44 /user/silas/stream_iris/path/part-00000-062b0a2c-2cc2-4248-b9cf-823b670c6496-c000.csv\r\n",
      "-rw-r--r--   2 root supergroup       4550 2021-10-30 23:44 /user/silas/stream_iris/path/part-00001-dd04f8bc-f54e-4fb0-965e-ad09c0805e1f-c000.csv\r\n"
     ]
    }
   ],
   "source": [
    "!hdfs dfs -ls /user/silas/stream_iris/path"
   ]
  },
  {
   "cell_type": "code",
   "execution_count": 9,
   "metadata": {},
   "outputs": [
    {
     "data": {
      "text/plain": [
       "150"
      ]
     },
     "execution_count": 9,
     "metadata": {},
     "output_type": "execute_result"
    }
   ],
   "source": [
    "spark.read.csv(\"/user/silas/stream_iris/path/part-00000-062b0a2c-2cc2-4248-b9cf-823b670c6496-c000.csv\").count()"
   ]
  },
  {
   "cell_type": "code",
   "execution_count": null,
   "metadata": {},
   "outputs": [],
   "source": []
  }
 ],
 "metadata": {
  "kernelspec": {
   "display_name": "PySpark",
   "language": "python",
   "name": "pyspark"
  },
  "language_info": {
   "codemirror_mode": {
    "name": "ipython",
    "version": 3
   },
   "file_extension": ".py",
   "mimetype": "text/x-python",
   "name": "python",
   "nbconvert_exporter": "python",
   "pygments_lexer": "ipython3",
   "version": "3.6.10"
  }
 },
 "nbformat": 4,
 "nbformat_minor": 2
}
