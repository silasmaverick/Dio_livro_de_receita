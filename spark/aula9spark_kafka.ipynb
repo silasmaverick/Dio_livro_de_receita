{
 "cells": [
  {
   "cell_type": "code",
   "execution_count": null,
   "metadata": {},
   "outputs": [],
   "source": [
    "#Ler o tópico do kafka “topic-kvspark” em modo batch\n",
    "from pyspark.sql.functions import *"
   ]
  },
  {
   "cell_type": "code",
   "execution_count": null,
   "metadata": {},
   "outputs": [],
   "source": [
    "topic_read = spark.read\\\n",
    ".format(\"kafka\")\\\n",
    ".option(\"kafka.bootstrap.servers\",\"kafka:9092\")\\\n",
    ".option(\"subscribe\",\"topic-kvspark\")\\\n",
    ".option(\"startingOffsets\",\"earliest\")\\\n",
    ".load()\n"
   ]
  },
  {
   "cell_type": "code",
   "execution_count": null,
   "metadata": {},
   "outputs": [],
   "source": [
    "#Visualizar o schema do tópico\n",
    "topic_read.printSchema()"
   ]
  },
  {
   "cell_type": "code",
   "execution_count": null,
   "metadata": {},
   "outputs": [],
   "source": [
    "#Visualizar o tópico com o campo key e value convertidos em string\n",
    "topic_string = topic_read.select(col(\"key\").cast(\"string\"),col(\"value\").cast(\"string\"))\n",
    "topic_string.show()"
   ]
  },
  {
   "cell_type": "code",
   "execution_count": null,
   "metadata": {},
   "outputs": [],
   "source": [
    "#Ler o tópico do kafka “topic-kvspark” em modo streaming\n",
    "topic_read_stream = spark.readStream\\\n",
    ".format(\"kafka\")\\\n",
    ".option(\"kafka.bootstrap.servers\",\"kafka:9092\")\\\n",
    ".option(\"subscribe\",\"topic-kvspark\")\\\n",
    ".option(\"startingOffsets\",\"earliest\")\\\n",
    ".load()\n"
   ]
  },
  {
   "cell_type": "code",
   "execution_count": null,
   "metadata": {},
   "outputs": [],
   "source": [
    "topic_read_stream.printSchema()"
   ]
  },
  {
   "cell_type": "code",
   "execution_count": null,
   "metadata": {},
   "outputs": [],
   "source": [
    "topic_string_stream = topic_read_stream.select(col(\"key\").cast(\"string\"),col(\"value\").cast(\"string\"))"
   ]
  },
  {
   "cell_type": "code",
   "execution_count": null,
   "metadata": {},
   "outputs": [],
   "source": [
    "#Salvar o tópico em streaming no tópico topic-kvspark-output a cada 5 segundos\n",
    "topic_string_stream_output = topic_string_stream.writeStream\\\n",
    ".format(\"kafka\")\\\n",
    ".option(\"kafka.bootstrap.servers\",\"kafka:9092\")\\\n",
    ".option(\"topic\",\"topic-kvspark-output\")\\\n",
    ".option(\"checkpointLocation\",\"user/silas/kafka_checkpoint\")\\\n",
    ".trigger(continuous=\"5 second\")\\\n",
    ".start()\n"
   ]
  },
  {
   "cell_type": "code",
   "execution_count": null,
   "metadata": {},
   "outputs": [],
   "source": [
    "#Salvar o tópico na pasta hdfs://namenode:8020/user/<nome>/Kafka/topic-kvspark-output\n",
    "topic_string_stream2_output = topic_string_stream.writeStream\\\n",
    ".format(\"csv\")\\\n",
    ".option(\"path\",\"/user/silas/kafka/topic-kvspark-output\")\\\n",
    ".start()\n",
    "\n",
    "\n"
   ]
  },
  {
   "cell_type": "code",
   "execution_count": null,
   "metadata": {},
   "outputs": [],
   "source": []
  }
 ],
 "metadata": {
  "kernelspec": {
   "display_name": "PySpark",
   "language": "python",
   "name": "pyspark"
  },
  "language_info": {
   "codemirror_mode": {
    "name": "ipython",
    "version": 3
   },
   "file_extension": ".py",
   "mimetype": "text/x-python",
   "name": "python",
   "nbconvert_exporter": "python",
   "pygments_lexer": "ipython3",
   "version": "3.6.10"
  }
 },
 "nbformat": 4,
 "nbformat_minor": 2
}
