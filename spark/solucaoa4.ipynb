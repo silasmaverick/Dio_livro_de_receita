{
 "cells": [
  {
   "cell_type": "code",
   "execution_count": 1,
   "metadata": {},
   "outputs": [],
   "source": [
    "#importações\n",
    "from pyspark.sql.types import *\n",
    "from pyspark.sql.functions import *\n",
    "from pyspark.sql import SQLContext\n",
    "sqlContext = SQLContext(sc)"
   ]
  },
  {
   "cell_type": "code",
   "execution_count": 2,
   "metadata": {},
   "outputs": [
    {
     "name": "stdout",
     "output_type": "stream",
     "text": [
      "+---+-----+----+\n",
      "| _1|   _2|  _3|\n",
      "+---+-----+----+\n",
      "|Cod| Nome|Sexo|\n",
      "|  1| Joao|   M|\n",
      "|  2|Maria|   F|\n",
      "+---+-----+----+\n",
      "\n"
     ]
    }
   ],
   "source": [
    "#criação do dataframe\n",
    "data2= [(\"Cod\",\"Nome\",\"Sexo\"),(\"1\",\"Joao\",\"M\"),(\"2\",\"Maria\",\"F\")]\n",
    "dft = spark.createDataFrame(data2)\n",
    "dft.show()"
   ]
  },
  {
   "cell_type": "code",
   "execution_count": 3,
   "metadata": {},
   "outputs": [],
   "source": [
    "#criacao do schema\n",
    "schema_pessoas2 = StructType([\n",
    "    StructField(\"cod\", IntegerType()),\n",
    "    StructField(\"nome\", StringType()),\n",
    "    StructField(\"sexo\", StringType())\n",
    "])"
   ]
  },
  {
   "cell_type": "code",
   "execution_count": 4,
   "metadata": {},
   "outputs": [],
   "source": [
    "#escrita do csv a partir do dataframe\n",
    "dft.write.csv(\"file:///user/silas/ex7_csv\", sep=\",\", mode=\"overwrite\")"
   ]
  },
  {
   "cell_type": "code",
   "execution_count": 12,
   "metadata": {},
   "outputs": [
    {
     "name": "stdout",
     "output_type": "stream",
     "text": [
      "+----+-----+----+\n",
      "| cod| nome|sexo|\n",
      "+----+-----+----+\n",
      "|null| null|null|\n",
      "|   2|Maria|   F|\n",
      "|   1| Joao|   M|\n",
      "+----+-----+----+\n",
      "\n"
     ]
    }
   ],
   "source": [
    "#leitura do csv\n",
    "pessoa_read_dft = sqlContext.read.load(\"file:///user/silas/ex7_csv\", format = 'com.databricks.spark.csv', schema=schema_pessoas2 )\n",
    "\n",
    "pessoa_read_dft.show()"
   ]
  },
  {
   "cell_type": "code",
   "execution_count": 6,
   "metadata": {},
   "outputs": [
    {
     "name": "stdout",
     "output_type": "stream",
     "text": [
      "+---+-----+----+\n",
      "|cod| nome|sexo|\n",
      "+---+-----+----+\n",
      "|  2|Maria|   F|\n",
      "|  1| Joao|   M|\n",
      "+---+-----+----+\n",
      "\n"
     ]
    }
   ],
   "source": [
    "#remoção da row null \n",
    "psa = pessoa_read_dft.dropna()\n",
    "psa.show()"
   ]
  }
 ],
 "metadata": {
  "kernelspec": {
   "display_name": "PySpark",
   "language": "python",
   "name": "pyspark"
  },
  "language_info": {
   "codemirror_mode": {
    "name": "ipython",
    "version": 3
   },
   "file_extension": ".py",
   "mimetype": "text/x-python",
   "name": "python",
   "nbconvert_exporter": "python",
   "pygments_lexer": "ipython3",
   "version": "3.6.10"
  }
 },
 "nbformat": 4,
 "nbformat_minor": 2
}
