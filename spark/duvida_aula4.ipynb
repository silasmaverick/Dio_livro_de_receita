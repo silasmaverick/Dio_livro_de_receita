{
 "cells": [
  {
   "cell_type": "code",
   "execution_count": 1,
   "metadata": {},
   "outputs": [],
   "source": [
    "#importações\n",
    "from pyspark.sql.types import *\n",
    "from pyspark.sql.functions import *\n",
    "from pyspark.sql import SQLContext\n",
    "sqlContext = SQLContext(sc)"
   ]
  },
  {
   "cell_type": "code",
   "execution_count": null,
   "metadata": {},
   "outputs": [],
   "source": [
    "#criação do dataframe para teste\n",
    "pessoa = Row(\"cod\",\"nome\",\"sexo\")\n",
    "# \n",
    "data= [pessoa(1,\"Joao\",\"M\"), pessoa(2,\"Maria\",\"F\")]\n",
    "df = spark.createDataFrame(data)"
   ]
  },
  {
   "cell_type": "code",
   "execution_count": null,
   "metadata": {},
   "outputs": [],
   "source": [
    "df.printSchema()"
   ]
  },
  {
   "cell_type": "code",
   "execution_count": null,
   "metadata": {
    "scrolled": true
   },
   "outputs": [],
   "source": [
    "pessoa_ns = spark.read.csv(\"/user/silas/ex1_csv\")\n",
    "pessoa_ns.show()\n",
    "pessoa_ns.printSchema()"
   ]
  },
  {
   "cell_type": "markdown",
   "metadata": {},
   "source": []
  },
  {
   "cell_type": "code",
   "execution_count": null,
   "metadata": {},
   "outputs": [],
   "source": []
  },
  {
   "cell_type": "code",
   "execution_count": null,
   "metadata": {},
   "outputs": [],
   "source": [
    "pessoa_read_head = spark.read.csv(\"/user/silas/ex0_csv\",header=\"true\")\n",
    "pessoa_read_head.show()\n",
    "pessoa_read_head.printSchema()"
   ]
  },
  {
   "cell_type": "code",
   "execution_count": null,
   "metadata": {},
   "outputs": [],
   "source": [
    "df.write.csv(\"/user/silas/ex3_csv\", mode=\"overwrite\", header=\"true\")"
   ]
  },
  {
   "cell_type": "code",
   "execution_count": null,
   "metadata": {},
   "outputs": [],
   "source": [
    "pessoa_read_is = spark.read.csv(\"/user/silas/ex3_csv\",header=\"true\", inferSchema='True')\n",
    "pessoa_read_is.show()\n",
    "pessoa_read_is.printSchema()"
   ]
  },
  {
   "cell_type": "code",
   "execution_count": null,
   "metadata": {},
   "outputs": [],
   "source": []
  },
  {
   "cell_type": "code",
   "execution_count": null,
   "metadata": {},
   "outputs": [],
   "source": []
  },
  {
   "cell_type": "code",
   "execution_count": null,
   "metadata": {},
   "outputs": [],
   "source": []
  },
  {
   "cell_type": "code",
   "execution_count": null,
   "metadata": {},
   "outputs": [],
   "source": [
    "schema_pessoas = StructType([\n",
    "    StructField(\"cod\", IntegerType()),\n",
    "    StructField(\"nome\", StringType()),\n",
    "    StructField(\"sexo\", StringType())\n",
    "])"
   ]
  },
  {
   "cell_type": "code",
   "execution_count": null,
   "metadata": {},
   "outputs": [],
   "source": [
    "df.write.csv(\"/user/silas/ex2_csv\", mode=\"overwrite\", header=\"true\")"
   ]
  },
  {
   "cell_type": "code",
   "execution_count": null,
   "metadata": {},
   "outputs": [],
   "source": [
    "pessoa_read_sc = spark.read.csv(\"/user/silas/ex2_csv\",header=\"true\", schema=schema_pessoas)\n",
    "pessoa_read_sc.show()\n",
    "pessoa_read_sc.printSchema()"
   ]
  },
  {
   "cell_type": "code",
   "execution_count": null,
   "metadata": {},
   "outputs": [],
   "source": []
  },
  {
   "cell_type": "code",
   "execution_count": null,
   "metadata": {},
   "outputs": [],
   "source": []
  },
  {
   "cell_type": "code",
   "execution_count": null,
   "metadata": {},
   "outputs": [],
   "source": [
    "!pyspark --packages com.databricks:spark-csv_2.10:1.3.0"
   ]
  },
  {
   "cell_type": "code",
   "execution_count": 2,
   "metadata": {},
   "outputs": [],
   "source": [
    "data2= [(\"Cod\",\"Nome\",\"Sexo\"),(\"1\",\"Joao\",\"M\"),(\"2\",\"Maria\",\"F\")]\n",
    "dft = spark.createDataFrame(data2)"
   ]
  },
  {
   "cell_type": "code",
   "execution_count": 3,
   "metadata": {},
   "outputs": [
    {
     "name": "stdout",
     "output_type": "stream",
     "text": [
      "+---+-----+----+\n",
      "| _1|   _2|  _3|\n",
      "+---+-----+----+\n",
      "|Cod| Nome|Sexo|\n",
      "|  1| Joao|   M|\n",
      "|  2|Maria|   F|\n",
      "+---+-----+----+\n",
      "\n"
     ]
    }
   ],
   "source": [
    "dft.show()\n"
   ]
  },
  {
   "cell_type": "code",
   "execution_count": 10,
   "metadata": {},
   "outputs": [],
   "source": [
    "dft.write.csv(\"file:///user/silas/ex7_csv\", sep=\",\", mode=\"overwrite\")"
   ]
  },
  {
   "cell_type": "code",
   "execution_count": 15,
   "metadata": {},
   "outputs": [
    {
     "name": "stdout",
     "output_type": "stream",
     "text": [
      "+----+-----+----+\n",
      "| cod| nome|sexo|\n",
      "+----+-----+----+\n",
      "|null| null|null|\n",
      "|   2|Maria|   F|\n",
      "|   1| Joao|   M|\n",
      "+----+-----+----+\n",
      "\n"
     ]
    }
   ],
   "source": [
    "pessoa_read_dft = sqlContext.read.load(\"file:///user/silas/ex7_csv\",format='com.databricks.spark.csv', \n",
    "                          \n",
    "                          schema=schema_pessoas2 )\n",
    "\n",
    "pessoa_read_dft.show()"
   ]
  },
  {
   "cell_type": "code",
   "execution_count": 27,
   "metadata": {},
   "outputs": [
    {
     "name": "stdout",
     "output_type": "stream",
     "text": [
      "+---+-----+----+\n",
      "|cod| nome|sexo|\n",
      "+---+-----+----+\n",
      "|  2|Maria|   F|\n",
      "|  1| Joao|   M|\n",
      "+---+-----+----+\n",
      "\n"
     ]
    }
   ],
   "source": [
    "psa = pessoa_read_dft.dropna().show()\n"
   ]
  },
  {
   "cell_type": "code",
   "execution_count": 25,
   "metadata": {},
   "outputs": [
    {
     "data": {
      "text/plain": [
       "pyspark.sql.types.Row"
      ]
     },
     "execution_count": 25,
     "metadata": {},
     "output_type": "execute_result"
    }
   ],
   "source": [
    "type(psa)"
   ]
  },
  {
   "cell_type": "code",
   "execution_count": null,
   "metadata": {},
   "outputs": [],
   "source": [
    "pessoa_read_dft = spark.read.csv(\"/user/silas/ex6_csv\")\n",
    "pessoa_read_dft.show()"
   ]
  },
  {
   "cell_type": "code",
   "execution_count": 8,
   "metadata": {},
   "outputs": [],
   "source": [
    "schema_pessoas2 = StructType([\n",
    "    StructField(\"cod\", IntegerType()),\n",
    "    StructField(\"nome\", StringType()),\n",
    "    StructField(\"sexo\", StringType())\n",
    "])\n",
    "#filter_data = dft.filter(lambda row:row != header)\n",
    "#dfn = spark.createDataFrame(filter_data, schema=schema_pessoas2)\n",
    "#dfn.show()"
   ]
  },
  {
   "cell_type": "code",
   "execution_count": null,
   "metadata": {},
   "outputs": [],
   "source": []
  },
  {
   "cell_type": "code",
   "execution_count": null,
   "metadata": {},
   "outputs": [],
   "source": []
  },
  {
   "cell_type": "code",
   "execution_count": null,
   "metadata": {},
   "outputs": [],
   "source": []
  },
  {
   "cell_type": "code",
   "execution_count": null,
   "metadata": {},
   "outputs": [],
   "source": []
  }
 ],
 "metadata": {
  "kernelspec": {
   "display_name": "PySpark",
   "language": "python",
   "name": "pyspark"
  },
  "language_info": {
   "codemirror_mode": {
    "name": "ipython",
    "version": 3
   },
   "file_extension": ".py",
   "mimetype": "text/x-python",
   "name": "python",
   "nbconvert_exporter": "python",
   "pygments_lexer": "ipython3",
   "version": "3.6.10"
  }
 },
 "nbformat": 4,
 "nbformat_minor": 2
}
